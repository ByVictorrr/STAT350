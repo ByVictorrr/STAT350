{
 "cells": [
  {
   "cell_type": "markdown",
   "metadata": {},
   "source": [
    "# Galileo's Dice\n",
    "\n",
    "In 1620, Galileo (yes, that Galileo) published a paper on a question that had puzzled gamblers of his day: why were you more likely to get a total of 10 than a total of 9 when you roll three dice?\n",
    "\n",
    "Let's start by rolling some dice to verify that this is true. Fortunately, unlike the gamblers of Galileo's time, we can very quickly simulate many dice rolls on a computer."
   ]
  },
  {
   "cell_type": "code",
   "execution_count": 7,
   "metadata": {},
   "outputs": [],
   "source": [
    "!pip install -q symbulate\n",
    "from symbulate import *\n",
    "NSIM = 10000"
   ]
  },
  {
   "cell_type": "markdown",
   "metadata": {},
   "source": [
    "First, we set up a box model for rolling three dice."
   ]
  },
  {
   "cell_type": "code",
   "execution_count": 4,
   "metadata": {},
   "outputs": [
    {
     "data": {
      "text/html": [
       "\n",
       "    <table>\n",
       "      <thead>\n",
       "        <th width=\"10%\">Index</th>\n",
       "        <th width=\"90%\">Result</th>\n",
       "      </thead>\n",
       "      <tbody>\n",
       "        \n",
       "        <tr>\n",
       "          <td>0</td><td>(3, 5, 6)</td>\n",
       "        </tr>\n",
       "        \n",
       "        <tr>\n",
       "          <td>1</td><td>(3, 1, 4)</td>\n",
       "        </tr>\n",
       "        \n",
       "        <tr>\n",
       "          <td>2</td><td>(2, 6, 5)</td>\n",
       "        </tr>\n",
       "        \n",
       "        <tr>\n",
       "          <td>3</td><td>(5, 5, 5)</td>\n",
       "        </tr>\n",
       "        \n",
       "        <tr>\n",
       "          <td>4</td><td>(3, 4, 4)</td>\n",
       "        </tr>\n",
       "        \n",
       "      </tbody>\n",
       "    </table>\n",
       "        "
      ],
      "text/plain": [
       "<symbulate.results.Results at 0x7faf21465e48>"
      ]
     },
     "execution_count": 4,
     "metadata": {},
     "output_type": "execute_result"
    }
   ],
   "source": [
    "model = BoxModel([1, 2, 3, 4, 5, 6], size=3, replace=True)\n",
    "# replace means put back what we drew\n",
    "# size means 3 of the lists\n",
    "model.sim(5)"
   ]
  },
  {
   "cell_type": "markdown",
   "metadata": {},
   "source": [
    "We are interested in the sum of the three rolls. We will define a **random variable**, which takes three rolls and sums their values."
   ]
  },
  {
   "cell_type": "code",
   "execution_count": 5,
   "metadata": {},
   "outputs": [
    {
     "data": {
      "text/html": [
       "\n",
       "    <table>\n",
       "      <thead>\n",
       "        <th width=\"10%\">Index</th>\n",
       "        <th width=\"90%\">Result</th>\n",
       "      </thead>\n",
       "      <tbody>\n",
       "        \n",
       "        <tr>\n",
       "          <td>0</td><td>11</td>\n",
       "        </tr>\n",
       "        \n",
       "        <tr>\n",
       "          <td>1</td><td>16</td>\n",
       "        </tr>\n",
       "        \n",
       "        <tr>\n",
       "          <td>2</td><td>17</td>\n",
       "        </tr>\n",
       "        \n",
       "        <tr>\n",
       "          <td>3</td><td>8</td>\n",
       "        </tr>\n",
       "        \n",
       "        <tr>\n",
       "          <td>4</td><td>11</td>\n",
       "        </tr>\n",
       "        \n",
       "      </tbody>\n",
       "    </table>\n",
       "        "
      ],
      "text/plain": [
       "<symbulate.results.RVResults at 0x7faf21465b70>"
      ]
     },
     "execution_count": 5,
     "metadata": {},
     "output_type": "execute_result"
    }
   ],
   "source": [
    "X = RV(model, sum)\n",
    "X.sim(5)"
   ]
  },
  {
   "cell_type": "markdown",
   "metadata": {},
   "source": [
    "We carry out a large number of simulations of $X$ and tabulate the number of each outcome."
   ]
  },
  {
   "cell_type": "code",
   "execution_count": 8,
   "metadata": {},
   "outputs": [
    {
     "data": {
      "text/html": [
       "\n",
       "<table>\n",
       "  <thead>\n",
       "    <th width=\"80%\">Outcome</th>\n",
       "    <th width=\"20%\">Value</th>\n",
       "  </thead>\n",
       "  <tbody>\n",
       "    <tr><td>3</td><td>47</td></tr><tr><td>4</td><td>159</td></tr><tr><td>5</td><td>299</td></tr><tr><td>6</td><td>443</td></tr><tr><td>7</td><td>710</td></tr><tr><td>8</td><td>969</td></tr><tr><td>9</td><td>1188</td></tr><tr><td>10</td><td>1220</td></tr><tr><td>11</td><td>1234</td></tr><tr><td>12</td><td>1126</td></tr><tr><td>13</td><td>931</td></tr><tr><td>14</td><td>734</td></tr><tr><td>15</td><td>453</td></tr><tr><td>16</td><td>297</td></tr><tr><td>17</td><td>144</td></tr><tr><td>18</td><td>46</td></tr><tr><td><b>Total</b></td><td><b>10000</b></td></tr>\n",
       "  </tbody>\n",
       "</table>\n"
      ],
      "text/plain": [
       "{10: 1220,\n",
       " 15: 453,\n",
       " 11: 1234,\n",
       " 6: 443,\n",
       " 12: 1126,\n",
       " 4: 159,\n",
       " 13: 931,\n",
       " 7: 710,\n",
       " 16: 297,\n",
       " 9: 1188,\n",
       " 8: 969,\n",
       " 14: 734,\n",
       " 5: 299,\n",
       " 3: 47,\n",
       " 17: 144,\n",
       " 18: 46}"
      ]
     },
     "execution_count": 8,
     "metadata": {},
     "output_type": "execute_result"
    }
   ],
   "source": [
    "X.sim(NSIM).tabulate()\n",
    "# outcome - is the sum\n",
    "# value - num times"
   ]
  },
  {
   "cell_type": "markdown",
   "metadata": {},
   "source": [
    "Indeed, a sum of 10 seems (slightly) more likely than a sum of 9."
   ]
  },
  {
   "cell_type": "markdown",
   "metadata": {},
   "source": [
    "People were confused by this, as it seems that there are six ways to get a sum of 9, if you ignore the order of the dice:\n",
    "\n",
    "- 3 + 3 + 3\n",
    "- 2 + 3 + 4\n",
    "- 2 + 2 + 5\n",
    "- 1 + 4 + 4\n",
    "- 1 + 3 + 5\n",
    "- 1 + 2 + 6\n",
    "\n",
    "**The order of 333 is one way**\n",
    "\n",
    "and also six ways to get a sum of 10:\n",
    "\n",
    "- 3 + 3 + 4\n",
    "- 2 + 4 + 4\n",
    "- 2 + 3 + 5\n",
    "- 2 + 2 + 6\n",
    "- 1 + 4 + 5\n",
    "- 1 + 3 + 6\n",
    "\n",
    "**The order of the sum of 10 has more than 9**\n",
    "\n",
    "So shouldn't they be equally likely? \n",
    "\n",
    "To dig into this mystery, let's tabulate the outcomes of the three rolls, ignoring the order."
   ]
  },
  {
   "cell_type": "code",
   "execution_count": null,
   "metadata": {},
   "outputs": [],
   "source": [
    "model = BoxModel(list(range(1, 7)), size=3, order_matters=False)\n",
    "table = model.sim(NSIM).tabulate()\n",
    "table"
   ]
  },
  {
   "cell_type": "markdown",
   "metadata": {},
   "source": [
    "Maybe you notice something already. Let's look at the probabilities of three possible outcomes that all produce a sum of 9."
   ]
  },
  {
   "cell_type": "code",
   "execution_count": null,
   "metadata": {},
   "outputs": [],
   "source": [
    "table[(2, 3, 4)] / NSIM, table[(1, 4, 4)] / NSIM, table[(3, 3, 3)] / NSIM"
   ]
  },
  {
   "cell_type": "markdown",
   "metadata": {},
   "source": [
    "Can you finish off the argument?"
   ]
  }
 ],
 "metadata": {
  "kernelspec": {
   "display_name": "Python 3",
   "language": "python",
   "name": "python3"
  },
  "language_info": {
   "codemirror_mode": {
    "name": "ipython",
    "version": 3
   },
   "file_extension": ".py",
   "mimetype": "text/x-python",
   "name": "python",
   "nbconvert_exporter": "python",
   "pygments_lexer": "ipython3",
   "version": "3.7.3"
  }
 },
 "nbformat": 4,
 "nbformat_minor": 2
}
